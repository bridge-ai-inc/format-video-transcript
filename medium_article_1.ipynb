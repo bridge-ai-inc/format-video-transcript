{
  "nbformat": 4,
  "nbformat_minor": 0,
  "metadata": {
    "colab": {
      "name": "medium_article_1.ipynb",
      "version": "0.3.2",
      "provenance": [],
      "collapsed_sections": [],
      "include_colab_link": true
    },
    "kernelspec": {
      "name": "python3",
      "display_name": "Python 3"
    }
  },
  "cells": [
    {
      "cell_type": "markdown",
      "metadata": {
        "id": "view-in-github",
        "colab_type": "text"
      },
      "source": [
        "<a href=\"https://colab.research.google.com/github/bridge-ai-inc/format-video-transcript/blob/master/medium_article_1.ipynb\" target=\"_parent\"><img src=\"https://colab.research.google.com/assets/colab-badge.svg\" alt=\"Open In Colab\"/></a>"
      ]
    },
    {
      "cell_type": "markdown",
      "metadata": {
        "id": "W5VtVVM0FO_u",
        "colab_type": "text"
      },
      "source": [
        "## How to convert video transcript file into a formatted text, for free\n",
        "\n",
        "If you are one of those people who like to take notes when learning from online videos tutorials like on Youtube or other platforms, then this article can save you heaps of time. By the time you're done reading this articles you'll learn the following:\n",
        "\n",
        "- How to extract transcripts from YouTube videos (this is not well formatted)\n",
        "- How to format the Youtube transcript text file into nicely formatted text. \n",
        "\n",
        "\n",
        "\n",
        "### The problem 😒\n",
        "\n",
        "So my wife is learning photo retouching, basically high-end portrait retouching. And as we all know, the most popular online platform for learning is YouTube, she is consuming a large amount of media content related to this. In the process she takes notes on Microsoft Word, basically following the process: pause > type > play  > **repeat**. This can be quite time-consuming and very distracting. So is there a way to improve learning efficiency (blasting through the video) and still have the notes 🤔? Since 'necessity is the mother of invention', I decided to take up this challenge to practice some basic Python skills.\n",
        "\n",
        "\n",
        "\n",
        "### The solution 😃\n",
        "\n",
        "To approach the issue and save time, two simple steps are required, with the second step involving some basic skills in python using only built-in python libraries (*NO 3rd party library needed*).:\n",
        "\n",
        "1. **Obtain the video transcript**: Youtube and some other specialised training sites (e.g., Udemy) provide transcripts for (some) videos. Follow the image-guided steps to obtain the video transcripts.\n",
        "\n",
        " * **Click on the 3-dot icon** next to 'share' and 'save' to reveal a drop-down menu containing two options: 'report' and 'Open transcript' (Fig. 1).\n",
        "  \n",
        "  * **Select 'Open transcipt' option** to reveal the video transcript. If you notice, the transcript comes with timestamps, this may be convenient when viewing in your browser, but it is not pretty when you want to copy and read as a separate text or word document later. So, let's fix that.\n",
        "  \n",
        "  * **Click the 3-dot icon** at the top right-hand corner of the transcript (in vertical orientation this time). This will reveal the 'toggle timestamps' (Fig. 2), click on this to turn-off the timestamps.\n",
        "\n",
        "  * **Copy and paste** the transcripts into a text file (Fig. 3). \n",
        "\n",
        "\n",
        "2. **Convert the transcript file**: As you can see from Fig. 3, this is only part of the transcript for a 2:43 minute video, longer video will probably take tens of pages. To convert this transcript text file into a nicely formatted text, let's follow these basic steps:\n",
        "\n",
        "\t* **Organise and label all files**: meaningfully name the input file, in my case: 'input_transcript.txt'. Create an empty text file, in my case I named it 'output_transcript.txt'. *Note that it is important for the output file to be an empty text file, this is where python will output the formatted text*.\n",
        "  \n",
        "\t* **Open both text files in Python**: Before opening the files into Python, make sure to create an empty string variable, we will append each line of the input file into this variable. [CODE SNIPPET HERE]\n",
        "  \n",
        "\t* **Loop through lines in the input file**:  Loop through and read each line of the input text file and append to the variable '*mystring*' created earlier. Since each line of the input transcript file ends with a newline character (\\n) we need to remove it using the replace fuction in Python during appending to our variable. In this case we replace with a 'space' character. [CODE SNIPPET HERE]\n",
        "  \n",
        "  * **Write to output to file**:  Once the code is done looping through the input transcript file and appending every line to the variable (after processing), we write the variable to the output file (Yes, that's right, the 'output_transcript.txt' file we created earlier).  [CODE SNIPPET HERE]\n",
        "  \n",
        "\n",
        "                       FULL CODE FROM GITHUB GIST\n",
        "That's it, we are done, you can do this for any length of text. Oh yeah, BTW the text file my wife generated was 149 pages 😳, but by the time we were done with the conversion, it was 56 pages 😎. "
      ]
    },
    {
      "cell_type": "code",
      "metadata": {
        "id": "xzcVZ4KEEWxb",
        "colab_type": "code",
        "colab": {
          "base_uri": "https://localhost:8080/",
          "height": 55
        },
        "outputId": "b0a02198-be52-4b0e-cd0f-b6a15babf113"
      },
      "source": [
        "# Load the drive helper and mount\n",
        "from google.colab import drive\n",
        "\n",
        "# This will prompt for authorization\n",
        "drive.mount('/content/drive')"
      ],
      "execution_count": 8,
      "outputs": [
        {
          "output_type": "stream",
          "text": [
            "Drive already mounted at /content/drive; to attempt to forcibly remount, call drive.mount(\"/content/drive\", force_remount=True).\n"
          ],
          "name": "stdout"
        }
      ]
    },
    {
      "cell_type": "code",
      "metadata": {
        "id": "x535QKzTHMn5",
        "colab_type": "code",
        "colab": {}
      },
      "source": [
        "# %cd ./drive/My Drive/data/gan/spectra\n",
        "%cd ./drive/My Drive/data"
      ],
      "execution_count": 0,
      "outputs": []
    },
    {
      "cell_type": "code",
      "metadata": {
        "id": "F2db3cbOpBKn",
        "colab_type": "code",
        "colab": {}
      },
      "source": [
        "%ls"
      ],
      "execution_count": 0,
      "outputs": []
    },
    {
      "cell_type": "code",
      "metadata": {
        "id": "gte2DwQwEyh2",
        "colab_type": "code",
        "colab": {}
      },
      "source": [
        "mystring = ''\n",
        "\n",
        "# Open input and output files\n",
        "file_in = open('input_transcript.txt', 'r') \n",
        "file_out = open('output_transcript.txt', 'w+')\n",
        "\n",
        "# Loop through all lines in the transcript and append to 'mystring'\n",
        "for line in file_in:\n",
        "  print(line)\n",
        "  mystring += line.replace('\\n', ' ') \n",
        "\n",
        "print(mystring)\n",
        "file_out.write(mystring)\n",
        "\n",
        "# Remember to close the files\n",
        "file_in.close()\n",
        "file_out.close()\n"
      ],
      "execution_count": 0,
      "outputs": []
    }
  ]
}